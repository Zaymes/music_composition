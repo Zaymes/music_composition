{
  "nbformat": 4,
  "nbformat_minor": 0,
  "metadata": {
    "colab": {
      "name": "music_gen.ipynb",
      "provenance": []
    },
    "kernelspec": {
      "name": "python3",
      "display_name": "Python 3"
    }
  },
  "cells": [
    {
      "cell_type": "code",
      "metadata": {
        "id": "dVNX4y28V247",
        "colab_type": "code",
        "outputId": "78c2cbff-d7dc-46b9-8662-cabc05674d2f",
        "colab": {
          "base_uri": "https://localhost:8080/",
          "height": 120
        }
      },
      "source": [
        "from google.colab import drive\n",
        "drive.mount('/content/drive')"
      ],
      "execution_count": 1,
      "outputs": [
        {
          "output_type": "stream",
          "text": [
            "Go to this URL in a browser: https://accounts.google.com/o/oauth2/auth?client_id=947318989803-6bn6qk8qdgf4n4g3pfee6491hc0brc4i.apps.googleusercontent.com&redirect_uri=urn%3aietf%3awg%3aoauth%3a2.0%3aoob&response_type=code&scope=email%20https%3a%2f%2fwww.googleapis.com%2fauth%2fdocs.test%20https%3a%2f%2fwww.googleapis.com%2fauth%2fdrive%20https%3a%2f%2fwww.googleapis.com%2fauth%2fdrive.photos.readonly%20https%3a%2f%2fwww.googleapis.com%2fauth%2fpeopleapi.readonly\n",
            "\n",
            "Enter your authorization code:\n",
            "··········\n",
            "Mounted at /content/drive\n"
          ],
          "name": "stdout"
        }
      ]
    },
    {
      "cell_type": "code",
      "metadata": {
        "id": "16J_TaB6XAdT",
        "colab_type": "code",
        "outputId": "fa869968-55ff-40ef-c1ac-e5f701f9ad2b",
        "colab": {
          "base_uri": "https://localhost:8080/",
          "height": 150
        }
      },
      "source": [
        "!ls '/content/drive/My Drive/schubert'"
      ],
      "execution_count": 2,
      "outputs": [
        {
          "output_type": "stream",
          "text": [
            "schu_143_1.mid\t  schub_d960_2.mid     schubert_D935_2.mid  schumm-2.mid\n",
            "schu_143_2.mid\t  schub_d960_3.mid     schubert_D935_3.mid  schumm-3.mid\n",
            "schu_143_3.mid\t  schub_d960_4.mid     schubert_D935_4.mid  schumm-4.mid\n",
            "schub_d760_1.mid  schubert_D850_1.mid  schuim-1.mid\t    schumm-5.mid\n",
            "schub_d760_2.mid  schubert_D850_2.mid  schuim-2.mid\t    schumm-6.mid\n",
            "schub_d760_3.mid  schubert_D850_3.mid  schuim-3.mid\n",
            "schub_d760_4.mid  schubert_D850_4.mid  schuim-4.mid\n",
            "schub_d960_1.mid  schubert_D935_1.mid  schumm-1.mid\n"
          ],
          "name": "stdout"
        }
      ]
    },
    {
      "cell_type": "markdown",
      "metadata": {
        "id": "-Z9EQhBXYFa9",
        "colab_type": "text"
      },
      "source": [
        "# **WaveNet**\n",
        "![alt text](https://cdn.analyticsvidhya.com/wp-content/uploads/2019/12/arcg.jpg)"
      ]
    },
    {
      "cell_type": "markdown",
      "metadata": {
        "id": "Y7X34wYTYSE3",
        "colab_type": "text"
      },
      "source": [
        "**The Workflow of WaveNet:**\n",
        "\n",
        "\n",
        "*   Input is fed into a causal 1D convolution\n",
        "*   The output is then fed to 2 different dilated 1D convolution layers with sigmoid and tanh activations\n",
        "*   The element-wise multiplication of 2 different activation values results in a skip connection\n",
        "*   And the element-wise addition of a skip connection and output of causal 1D results in the residual\n",
        "\n"
      ]
    },
    {
      "cell_type": "code",
      "metadata": {
        "id": "Oegh_q03XF7F",
        "colab_type": "code",
        "colab": {}
      },
      "source": [
        "# music 21 library\n",
        "from music21 import *"
      ],
      "execution_count": 0,
      "outputs": []
    },
    {
      "cell_type": "code",
      "metadata": {
        "id": "mmfhl7hFYxTq",
        "colab_type": "code",
        "colab": {}
      },
      "source": [
        "# reading midi file \n",
        "def read_midi(file):\n",
        "  print(\"Loading music file\",file)\n",
        "  notes=[]\n",
        "  notes_to_parse=None\n",
        "  midi = converter.parse(file)\n",
        "  s2 = instrument.partitionByInstrument(midi)\n",
        "  for part in s2.parts:\n",
        "    \n",
        "  "
      ],
      "execution_count": 0,
      "outputs": []
    }
  ]
}