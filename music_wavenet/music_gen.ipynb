{
  "nbformat": 4,
  "nbformat_minor": 0,
  "metadata": {
    "colab": {
      "name": "music_gen.ipynb",
      "provenance": []
    },
    "kernelspec": {
      "name": "python3",
      "display_name": "Python 3"
    }
  },
  "cells": [
    {
      "cell_type": "code",
      "metadata": {
        "id": "dVNX4y28V247",
        "colab_type": "code",
        "outputId": "d1c4443b-0d04-498d-d01c-89ac1cb3bfcb",
        "colab": {
          "base_uri": "https://localhost:8080/",
          "height": 120
        }
      },
      "source": [
        "from google.colab import drive\n",
        "drive.mount('/content/drive')"
      ],
      "execution_count": 1,
      "outputs": [
        {
          "output_type": "stream",
          "text": [
            "Go to this URL in a browser: https://accounts.google.com/o/oauth2/auth?client_id=947318989803-6bn6qk8qdgf4n4g3pfee6491hc0brc4i.apps.googleusercontent.com&redirect_uri=urn%3aietf%3awg%3aoauth%3a2.0%3aoob&response_type=code&scope=email%20https%3a%2f%2fwww.googleapis.com%2fauth%2fdocs.test%20https%3a%2f%2fwww.googleapis.com%2fauth%2fdrive%20https%3a%2f%2fwww.googleapis.com%2fauth%2fdrive.photos.readonly%20https%3a%2f%2fwww.googleapis.com%2fauth%2fpeopleapi.readonly\n",
            "\n",
            "Enter your authorization code:\n",
            "··········\n",
            "Mounted at /content/drive\n"
          ],
          "name": "stdout"
        }
      ]
    },
    {
      "cell_type": "code",
      "metadata": {
        "id": "16J_TaB6XAdT",
        "colab_type": "code",
        "outputId": "9d946f15-080c-47b5-c293-8673eb602541",
        "colab": {
          "base_uri": "https://localhost:8080/",
          "height": 150
        }
      },
      "source": [
        "!ls '/content/drive/My Drive/schubert'"
      ],
      "execution_count": 2,
      "outputs": [
        {
          "output_type": "stream",
          "text": [
            "schu_143_1.mid\t  schub_d960_2.mid     schubert_D935_2.mid  schumm-2.mid\n",
            "schu_143_2.mid\t  schub_d960_3.mid     schubert_D935_3.mid  schumm-3.mid\n",
            "schu_143_3.mid\t  schub_d960_4.mid     schubert_D935_4.mid  schumm-4.mid\n",
            "schub_d760_1.mid  schubert_D850_1.mid  schuim-1.mid\t    schumm-5.mid\n",
            "schub_d760_2.mid  schubert_D850_2.mid  schuim-2.mid\t    schumm-6.mid\n",
            "schub_d760_3.mid  schubert_D850_3.mid  schuim-3.mid\n",
            "schub_d760_4.mid  schubert_D850_4.mid  schuim-4.mid\n",
            "schub_d960_1.mid  schubert_D935_1.mid  schumm-1.mid\n"
          ],
          "name": "stdout"
        }
      ]
    },
    {
      "cell_type": "markdown",
      "metadata": {
        "id": "-Z9EQhBXYFa9",
        "colab_type": "text"
      },
      "source": [
        "# **WaveNet**\n",
        "![alt text](https://cdn.analyticsvidhya.com/wp-content/uploads/2019/12/arcg.jpg)"
      ]
    },
    {
      "cell_type": "markdown",
      "metadata": {
        "id": "Y7X34wYTYSE3",
        "colab_type": "text"
      },
      "source": [
        "**The Workflow of WaveNet:**\n",
        "\n",
        "\n",
        "*   Input is fed into a causal 1D convolution\n",
        "*   The output is then fed to 2 different dilated 1D convolution layers with sigmoid and tanh activations\n",
        "*   The element-wise multiplication of 2 different activation values results in a skip connection\n",
        "*   And the element-wise addition of a skip connection and output of causal 1D results in the residual\n",
        "\n"
      ]
    },
    {
      "cell_type": "code",
      "metadata": {
        "id": "Oegh_q03XF7F",
        "colab_type": "code",
        "colab": {}
      },
      "source": [
        "# music 21 library\n",
        "from music21 import *"
      ],
      "execution_count": 0,
      "outputs": []
    },
    {
      "cell_type": "code",
      "metadata": {
        "id": "mmfhl7hFYxTq",
        "colab_type": "code",
        "colab": {}
      },
      "source": [
        "# reading midi file \n",
        "def read_midi(file):\n",
        "  print(\"Loading music file\",file)\n",
        "  notes=[]\n",
        "  notes_to_parse=None\n",
        "  midi = converter.parse(file)\n",
        "  s2 = instrument.partitionByInstrument(midi)\n",
        "  for part in s2.parts:\n",
        "    if 'Piano' in str(part):\n",
        "      notes_to_parse = part.recurse()\n",
        "      for element in notes_to_parse:\n",
        "        if isinstance(element, note.Note):\n",
        "          notes.append(str(element.pitch))\n",
        "        elif isinstance(element, chord.Chord):\n",
        "          notes.append('.'.join(str(n) for n in element.normalOrder))\n",
        "  \n",
        "  return np.array(notes)\n"
      ],
      "execution_count": 0,
      "outputs": []
    },
    {
      "cell_type": "code",
      "metadata": {
        "id": "Nc6NOZUTAFQd",
        "colab_type": "code",
        "colab": {
          "base_uri": "https://localhost:8080/",
          "height": 500
        },
        "outputId": "6ccd81ee-ec88-40d8-971c-9e8bb6905315"
      },
      "source": [
        "import os\n",
        "import numpy as np\n",
        "path='/content/drive/My Drive/schubert/'\n",
        "\n",
        "files=[i for i in os.listdir(path) if i.endswith(\".mid\")]\n",
        "\n",
        "notes_array = np.array([read_midi(path+i) for i in files])\n"
      ],
      "execution_count": 6,
      "outputs": [
        {
          "output_type": "stream",
          "text": [
            "Loading music file /content/drive/My Drive/schubert/schubert_D850_1.mid\n",
            "Loading music file /content/drive/My Drive/schubert/schubert_D850_2.mid\n",
            "Loading music file /content/drive/My Drive/schubert/schubert_D850_3.mid\n",
            "Loading music file /content/drive/My Drive/schubert/schubert_D850_4.mid\n",
            "Loading music file /content/drive/My Drive/schubert/schub_d760_1.mid\n",
            "Loading music file /content/drive/My Drive/schubert/schub_d760_2.mid\n",
            "Loading music file /content/drive/My Drive/schubert/schub_d760_3.mid\n",
            "Loading music file /content/drive/My Drive/schubert/schub_d760_4.mid\n",
            "Loading music file /content/drive/My Drive/schubert/schumm-1.mid\n",
            "Loading music file /content/drive/My Drive/schubert/schumm-2.mid\n",
            "Loading music file /content/drive/My Drive/schubert/schumm-3.mid\n",
            "Loading music file /content/drive/My Drive/schubert/schumm-4.mid\n",
            "Loading music file /content/drive/My Drive/schubert/schumm-5.mid\n",
            "Loading music file /content/drive/My Drive/schubert/schumm-6.mid\n",
            "Loading music file /content/drive/My Drive/schubert/schu_143_1.mid\n",
            "Loading music file /content/drive/My Drive/schubert/schu_143_2.mid\n",
            "Loading music file /content/drive/My Drive/schubert/schu_143_3.mid\n",
            "Loading music file /content/drive/My Drive/schubert/schuim-1.mid\n",
            "Loading music file /content/drive/My Drive/schubert/schuim-2.mid\n",
            "Loading music file /content/drive/My Drive/schubert/schuim-3.mid\n",
            "Loading music file /content/drive/My Drive/schubert/schuim-4.mid\n",
            "Loading music file /content/drive/My Drive/schubert/schubert_D935_1.mid\n",
            "Loading music file /content/drive/My Drive/schubert/schubert_D935_2.mid\n",
            "Loading music file /content/drive/My Drive/schubert/schubert_D935_3.mid\n",
            "Loading music file /content/drive/My Drive/schubert/schubert_D935_4.mid\n",
            "Loading music file /content/drive/My Drive/schubert/schub_d960_1.mid\n",
            "Loading music file /content/drive/My Drive/schubert/schub_d960_2.mid\n",
            "Loading music file /content/drive/My Drive/schubert/schub_d960_3.mid\n",
            "Loading music file /content/drive/My Drive/schubert/schub_d960_4.mid\n"
          ],
          "name": "stdout"
        }
      ]
    },
    {
      "cell_type": "code",
      "metadata": {
        "id": "lLNnfgXDAjwz",
        "colab_type": "code",
        "colab": {
          "base_uri": "https://localhost:8080/",
          "height": 33
        },
        "outputId": "0a522555-57b9-420f-e1d5-d423bc0e6305"
      },
      "source": [
        "notes_ = [element for note_ in notes_array for element in note_]\n",
        "\n",
        "#No. of unique notes\n",
        "unique_notes = list(set(notes_))\n",
        "print(len(unique_notes))\n"
      ],
      "execution_count": 7,
      "outputs": [
        {
          "output_type": "stream",
          "text": [
            "304\n"
          ],
          "name": "stdout"
        }
      ]
    },
    {
      "cell_type": "code",
      "metadata": {
        "id": "72gAchdQBgtK",
        "colab_type": "code",
        "colab": {
          "base_uri": "https://localhost:8080/",
          "height": 402
        },
        "outputId": "5e61696c-f21f-40c4-9416-76d5e7e2a960"
      },
      "source": [
        "from collections import Counter\n",
        "import matplotlib.pyplot as plt\n",
        "\n",
        "freq = dict(Counter(notes_))\n",
        "no=[count for _,count in freq.items()]\n",
        "\n",
        "plt.figure(figsize=(5,5))\n",
        "plt.hist(no)"
      ],
      "execution_count": 8,
      "outputs": [
        {
          "output_type": "execute_result",
          "data": {
            "text/plain": [
              "(array([187.,  41.,  26.,  11.,   6.,   9.,  12.,   6.,   3.,   3.]),\n",
              " array([1.0000e+00, 1.4790e+02, 2.9480e+02, 4.4170e+02, 5.8860e+02,\n",
              "        7.3550e+02, 8.8240e+02, 1.0293e+03, 1.1762e+03, 1.3231e+03,\n",
              "        1.4700e+03]),\n",
              " <a list of 10 Patch objects>)"
            ]
          },
          "metadata": {
            "tags": []
          },
          "execution_count": 8
        },
        {
          "output_type": "display_data",
          "data": {
            "image/png": "[encoded data removed]",
            "text/plain": [
              "<Figure size 360x360 with 1 Axes>"
            ]
          },
          "metadata": {
            "tags": [],
            "image/png": {
              "width": 319,
              "height": 302
            },
            "needs_background": "light"
          }
        }
      ]
    },
    {
      "cell_type": "code",
      "metadata": {
        "id": "wQDMv0voBuYw",
        "colab_type": "code",
        "colab": {
          "base_uri": "https://localhost:8080/",
          "height": 33
        },
        "outputId": "3d333e68-e425-4412-f093-a7c9e6b72299"
      },
      "source": [
        "frequent_notes = [note_ for note_, count in freq.items() if count>=50]\n",
        "print(len(frequent_notes))"
      ],
      "execution_count": 9,
      "outputs": [
        {
          "output_type": "stream",
          "text": [
            "167\n"
          ],
          "name": "stdout"
        }
      ]
    },
    {
      "cell_type": "code",
      "metadata": {
        "id": "2z-ODz7PB6DX",
        "colab_type": "code",
        "colab": {}
      },
      "source": [
        "new_music=[]\n",
        "\n",
        "for notes in notes_array:\n",
        "    temp=[]\n",
        "    for note_ in notes:\n",
        "        if note_ in frequent_notes:\n",
        "            temp.append(note_)            \n",
        "    new_music.append(temp)\n",
        "    \n",
        "new_music = np.array(new_music)"
      ],
      "execution_count": 0,
      "outputs": []
    },
    {
      "cell_type": "markdown",
      "metadata": {
        "id": "ArOgFxRoENf8",
        "colab_type": "text"
      },
      "source": [
        "# **Preprocessing data**"
      ]
    },
    {
      "cell_type": "code",
      "metadata": {
        "id": "HH1D6k1GCOLc",
        "colab_type": "code",
        "colab": {
          "base_uri": "https://localhost:8080/",
          "height": 33
        },
        "outputId": "055c45c5-1475-4f9b-a1e0-077000a3b7c3"
      },
      "source": [
        "no_of_timesteps = 32\n",
        "x = []\n",
        "y = []\n",
        "\n",
        "for note_ in new_music:\n",
        "    for i in range(0, len(note_) - no_of_timesteps, 1):\n",
        "        \n",
        "        #preparing input and output sequences\n",
        "        input_ = note_[i:i + no_of_timesteps]\n",
        "        output = note_[i + no_of_timesteps]\n",
        "        \n",
        "        x.append(input_)\n",
        "        y.append(output)\n",
        "        \n",
        "x=np.array(x)\n",
        "y=np.array(y)\n",
        "y"
      ],
      "execution_count": 12,
      "outputs": [
        {
          "output_type": "execute_result",
          "data": {
            "text/plain": [
              "array(['G4', 'G3', 'F#4', ..., 'B-1', 'G#1', 'G1'], dtype='<U8')"
            ]
          },
          "metadata": {
            "tags": []
          },
          "execution_count": 12
        }
      ]
    },
    {
      "cell_type": "code",
      "metadata": {
        "id": "Xz49KPGiCjlw",
        "colab_type": "code",
        "colab": {
          "base_uri": "https://localhost:8080/",
          "height": 53
        },
        "outputId": "3b1b5629-ce67-410c-e9eb-1ffc430145c7"
      },
      "source": [
        "unique_x = list(set(x.ravel()))\n",
        "x_note_to_int = dict((note_, number) for number, note_ in enumerate(unique_x))\n",
        "print(x_note_to_int)"
      ],
      "execution_count": 14,
      "outputs": [
        {
          "output_type": "stream",
          "text": [
            "{'2': 0, 'E5': 1, 'B-4': 2, '0.3': 3, 'A6': 4, '8.0': 5, '7.10.0': 6, 'A2': 7, 'B4': 8, 'G#5': 9, '1': 10, '7.10.2': 11, '3.8': 12, '6.8': 13, 'D5': 14, '8.11': 15, '10.1': 16, 'D3': 17, '4': 18, '6.9.1': 19, 'E6': 20, 'C7': 21, 'G6': 22, 'F6': 23, 'G5': 24, '0.4': 25, '4.7.11': 26, '4.7.9': 27, '7.11.2': 28, 'C#7': 29, '7.10.1': 30, '0.3.5': 31, '3.9': 32, 'D4': 33, '1.4.8': 34, 'D2': 35, 'E-2': 36, 'B-2': 37, '1.4.7': 38, '7.11': 39, '8.11.3': 40, '5.9.0': 41, '8.1': 42, 'C4': 43, '9.1.4': 44, 'C3': 45, 'A3': 46, '10.3': 47, 'C#2': 48, 'E-6': 49, '6': 50, '4.8.11': 51, '3': 52, '10.1.3': 53, '11.2': 54, 'C6': 55, '2.8': 56, '1.7': 57, '2.7': 58, '3.6.8': 59, '2.5.7': 60, '10.2': 61, '11.3': 62, 'B-3': 63, 'B3': 64, '2.5': 65, 'A1': 66, '0.2.6': 67, '5.10': 68, 'G#3': 69, '2.6': 70, '0.3.6': 71, '6.10': 72, '5.8.11': 73, '11': 74, '10.1.5': 75, 'E-4': 76, 'E4': 77, 'B2': 78, '4.10': 79, 'E-5': 80, '0.4.7': 81, '9': 82, '8.0.3': 83, 'C#4': 84, '2.4.8': 85, 'F#2': 86, 'C#6': 87, '11.2.6': 88, '4.8': 89, 'F3': 90, '10.2.5': 91, '2.6.9': 92, '11.2.4': 93, 'G1': 94, 'E2': 95, '2.5.9': 96, '5.8': 97, '0.5': 98, 'C5': 99, 'G#1': 100, 'G4': 101, 'B-5': 102, '3.7': 103, '7': 104, '5.8.0': 105, '9.1': 106, '0': 107, '6.9': 108, '6.11': 109, 'F#5': 110, '1.5.8': 111, '7.0': 112, 'D6': 113, '3.7.10': 114, 'B5': 115, '0.2': 116, '9.0.4': 117, '0.3.7': 118, 'E3': 119, '2.4': 120, '5': 121, 'F#6': 122, '9.2': 123, 'C#5': 124, '5.11': 125, 'E-3': 126, '8.11.2': 127, '1.5': 128, 'G3': 129, '3.6.9': 130, '11.4': 131, 'F#4': 132, 'A5': 133, '0.6': 134, '9.0': 135, '7.9.1': 136, '8': 137, 'F4': 138, '1.6': 139, 'A4': 140, '10': 141, 'B-6': 142, 'B1': 143, '1.3': 144, 'F5': 145, '11.3.6': 146, 'C#3': 147, 'C2': 148, '9.0.2': 149, '1.4.7.10': 150, 'F2': 151, '5.7': 152, 'F#3': 153, 'G#4': 154, '5.9': 155, 'G#2': 156, 'G#6': 157, '4.7': 158, '3.6': 159, '6.10.1': 160, 'B-1': 161, '1.4': 162, '7.10': 163, 'G2': 164, '4.9': 165, '7.9': 166}\n"
          ],
          "name": "stdout"
        }
      ]
    },
    {
      "cell_type": "code",
      "metadata": {
        "id": "n0B2IMCeCzKf",
        "colab_type": "code",
        "colab": {
          "base_uri": "https://localhost:8080/",
          "height": 133
        },
        "outputId": "71834382-2404-4b68-c235-3c9e4c625c22"
      },
      "source": [
        "x_seq=[]\n",
        "for i in x:\n",
        "  temp=[]\n",
        "  for j in i:\n",
        "      #assigning unique integer to every note\n",
        "    temp.append(x_note_to_int[j])\n",
        "  x_seq.append(temp)\n",
        "    \n",
        "x_seq = np.array(x_seq)\n",
        "x_seq"
      ],
      "execution_count": 16,
      "outputs": [
        {
          "output_type": "execute_result",
          "data": {
            "text/plain": [
              "array([[ 92,   0, 123, ...,  39,  77, 119],\n",
              "       [  0, 123,  70, ...,  77, 119, 101],\n",
              "       [123,  70, 123, ..., 119, 101, 129],\n",
              "       ...,\n",
              "       [ 23,  49,  87, ...,  36,  48, 148],\n",
              "       [ 49,  87,  55, ...,  48, 148, 161],\n",
              "       [ 87,  55, 102, ..., 148, 161, 100]])"
            ]
          },
          "metadata": {
            "tags": []
          },
          "execution_count": 16
        }
      ]
    },
    {
      "cell_type": "code",
      "metadata": {
        "id": "GzO5xsSKDUGe",
        "colab_type": "code",
        "colab": {
          "base_uri": "https://localhost:8080/",
          "height": 33
        },
        "outputId": "e6fd5044-192c-4a55-e4c1-ce832a297858"
      },
      "source": [
        "unique_y = list(set(y))\n",
        "y_note_to_int = dict((note_, number) for number, note_ in enumerate(unique_y)) \n",
        "y_seq=np.array([y_note_to_int[i] for i in y])\n",
        "y_seq"
      ],
      "execution_count": 18,
      "outputs": [
        {
          "output_type": "execute_result",
          "data": {
            "text/plain": [
              "array([101, 129, 131, ..., 161, 100,  94])"
            ]
          },
          "metadata": {
            "tags": []
          },
          "execution_count": 18
        }
      ]
    },
    {
      "cell_type": "code",
      "metadata": {
        "id": "olv33c7SDuZA",
        "colab_type": "code",
        "colab": {}
      },
      "source": [
        "from sklearn.model_selection import train_test_split\n",
        "x_tr, x_val, y_tr, y_val = train_test_split(x_seq,y_seq,test_size=0.2,random_state=0)"
      ],
      "execution_count": 0,
      "outputs": []
    },
    {
      "cell_type": "markdown",
      "metadata": {
        "id": "4oe_9e7AEVvY",
        "colab_type": "text"
      },
      "source": [
        "**Model building**"
      ]
    },
    {
      "cell_type": "code",
      "metadata": {
        "id": "sYXSUGEQD1rq",
        "colab_type": "code",
        "colab": {}
      },
      "source": [
        "def lstm():\n",
        "  model = Sequential()\n",
        "  model.add(LSTM(128,return_sequences=True))\n",
        "  model.add(LSTM(128))\n",
        "  model.add(Dense(256))\n",
        "  model.add(Activation('relu'))\n",
        "  model.add(Dense(n_vocab))\n",
        "  model.add(Activation('softmax'))\n",
        "  model.compile(loss='sparse_categorical_crossentropy', optimizer='adam')\n",
        "  return model\n",
        "\n",
        "  "
      ],
      "execution_count": 0,
      "outputs": []
    },
    {
      "cell_type": "code",
      "metadata": {
        "id": "9GfT7iIbEakG",
        "colab_type": "code",
        "colab": {
          "base_uri": "https://localhost:8080/",
          "height": 600
        },
        "outputId": "ba64765e-ffaa-470f-acc0-3e10554fda76"
      },
      "source": [
        "from keras.layers import *\n",
        "from keras.models import *\n",
        "from keras.callbacks import *\n",
        "import keras.backend as K\n",
        "\n",
        "K.clear_session()\n",
        "model = Sequential()\n",
        "    \n",
        "#embedding layer\n",
        "model.add(Embedding(len(unique_x), 100, input_length=32,trainable=True)) \n",
        "\n",
        "model.add(Conv1D(64,3, padding='causal',activation='relu'))\n",
        "model.add(Dropout(0.2))\n",
        "model.add(MaxPool1D(2))\n",
        "    \n",
        "model.add(Conv1D(128,3,activation='relu',dilation_rate=2,padding='causal'))\n",
        "model.add(Dropout(0.2))\n",
        "model.add(MaxPool1D(2))\n",
        "\n",
        "model.add(Conv1D(256,3,activation='relu',dilation_rate=4,padding='causal'))\n",
        "model.add(Dropout(0.2))\n",
        "model.add(MaxPool1D(2))\n",
        "          \n",
        "#model.add(Conv1D(256,5,activation='relu'))    \n",
        "model.add(GlobalMaxPool1D())\n",
        "    \n",
        "model.add(Dense(256, activation='relu'))\n",
        "model.add(Dense(len(unique_y), activation='softmax'))\n",
        "    \n",
        "model.compile(loss='sparse_categorical_crossentropy', optimizer='adam')\n",
        "\n",
        "model.summary()"
      ],
      "execution_count": 21,
      "outputs": [
        {
          "output_type": "stream",
          "text": [
            "Using TensorFlow backend.\n"
          ],
          "name": "stderr"
        },
        {
          "output_type": "stream",
          "text": [
            "Model: \"sequential_1\"\n",
            "_________________________________________________________________\n",
            "Layer (type)                 Output Shape              Param #   \n",
            "=================================================================\n",
            "embedding_1 (Embedding)      (None, 32, 100)           16700     \n",
            "_________________________________________________________________\n",
            "conv1d_1 (Conv1D)            (None, 32, 64)            19264     \n",
            "_________________________________________________________________\n",
            "dropout_1 (Dropout)          (None, 32, 64)            0         \n",
            "_________________________________________________________________\n",
            "max_pooling1d_1 (MaxPooling1 (None, 16, 64)            0         \n",
            "_________________________________________________________________\n",
            "conv1d_2 (Conv1D)            (None, 16, 128)           24704     \n",
            "_________________________________________________________________\n",
            "dropout_2 (Dropout)          (None, 16, 128)           0         \n",
            "_________________________________________________________________\n",
            "max_pooling1d_2 (MaxPooling1 (None, 8, 128)            0         \n",
            "_________________________________________________________________\n",
            "conv1d_3 (Conv1D)            (None, 8, 256)            98560     \n",
            "_________________________________________________________________\n",
            "dropout_3 (Dropout)          (None, 8, 256)            0         \n",
            "_________________________________________________________________\n",
            "max_pooling1d_3 (MaxPooling1 (None, 4, 256)            0         \n",
            "_________________________________________________________________\n",
            "global_max_pooling1d_1 (Glob (None, 256)               0         \n",
            "_________________________________________________________________\n",
            "dense_1 (Dense)              (None, 256)               65792     \n",
            "_________________________________________________________________\n",
            "dense_2 (Dense)              (None, 167)               42919     \n",
            "=================================================================\n",
            "Total params: 267,939\n",
            "Trainable params: 267,939\n",
            "Non-trainable params: 0\n",
            "_________________________________________________________________\n"
          ],
          "name": "stdout"
        }
      ]
    },
    {
      "cell_type": "code",
      "metadata": {
        "id": "hCiSw5WPE6ru",
        "colab_type": "code",
        "colab": {}
      },
      "source": [
        "mc=ModelCheckpoint('best_model.h5', monitor='val_loss', mode='min', save_best_only=True,verbose=1)"
      ],
      "execution_count": 0,
      "outputs": []
    },
    {
      "cell_type": "code",
      "metadata": {
        "id": "x8SD--qxE96R",
        "colab_type": "code",
        "colab": {
          "base_uri": "https://localhost:8080/",
          "height": 520
        },
        "outputId": "cb3cabf9-1e97-4a08-f8d2-49c2f714f74d"
      },
      "source": [
        "history = model.fit(np.array(x_tr),np.array(y_tr),batch_size=128,epochs=50, validation_data=(np.array(x_val),np.array(y_val)),verbose=1, callbacks=[mc])"
      ],
      "execution_count": 0,
      "outputs": [
        {
          "output_type": "stream",
          "text": [
            "/usr/local/lib/python3.6/dist-packages/tensorflow/python/framework/indexed_slices.py:434: UserWarning: Converting sparse IndexedSlices to a dense Tensor of unknown shape. This may consume a large amount of memory.\n",
            "  \"Converting sparse IndexedSlices to a dense Tensor of unknown shape. \"\n"
          ],
          "name": "stderr"
        },
        {
          "output_type": "stream",
          "text": [
            "Train on 51530 samples, validate on 12883 samples\n",
            "Epoch 1/50\n",
            "51530/51530 [==============================] - 33s 642us/step - loss: 4.3318 - val_loss: 4.0082\n",
            "\n",
            "Epoch 00001: val_loss improved from inf to 4.00821, saving model to best_model.h5\n",
            "Epoch 2/50\n",
            "51530/51530 [==============================] - 32s 627us/step - loss: 3.7683 - val_loss: 3.8066\n",
            "\n",
            "Epoch 00002: val_loss improved from 4.00821 to 3.80659, saving model to best_model.h5\n",
            "Epoch 3/50\n",
            "51530/51530 [==============================] - 32s 629us/step - loss: 3.5833 - val_loss: 3.6389\n",
            "\n",
            "Epoch 00003: val_loss improved from 3.80659 to 3.63894, saving model to best_model.h5\n",
            "Epoch 4/50\n",
            "51530/51530 [==============================] - 33s 632us/step - loss: 3.4540 - val_loss: 3.5618\n",
            "\n",
            "Epoch 00004: val_loss improved from 3.63894 to 3.56182, saving model to best_model.h5\n",
            "Epoch 5/50\n",
            "51530/51530 [==============================] - 32s 629us/step - loss: 3.3543 - val_loss: 3.4680\n",
            "\n",
            "Epoch 00005: val_loss improved from 3.56182 to 3.46796, saving model to best_model.h5\n",
            "Epoch 6/50\n",
            "51530/51530 [==============================] - 32s 630us/step - loss: 3.2739 - val_loss: 3.4286\n",
            "\n",
            "Epoch 00006: val_loss improved from 3.46796 to 3.42858, saving model to best_model.h5\n",
            "Epoch 7/50\n",
            "17664/51530 [=========>....................] - ETA: 20s - loss: 3.1871"
          ],
          "name": "stdout"
        }
      ]
    },
    {
      "cell_type": "code",
      "metadata": {
        "id": "hDgTcwoaFKNU",
        "colab_type": "code",
        "colab": {}
      },
      "source": [
        "from keras.models import load_model\n",
        "model = load_model('best_model.h5')"
      ],
      "execution_count": 0,
      "outputs": []
    }
  ]
}